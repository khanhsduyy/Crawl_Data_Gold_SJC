{
 "cells": [
  {
   "cell_type": "code",
   "execution_count": 92,
   "id": "e4d922b1",
   "metadata": {},
   "outputs": [
    {
     "name": "stdout",
     "output_type": "stream",
     "text": [
      "Import success\n"
     ]
    }
   ],
   "source": [
    "# Import library\n",
    "import re\n",
    "import math\n",
    "from datetime import datetime\n",
    "\n",
    "import pandas as pd\n",
    "import numpy as np\n",
    "\n",
    "from selenium import webdriver\n",
    "from selenium.common.exceptions import NoSuchElementException\n",
    "from selenium.webdriver.chrome.options import Options\n",
    "from selenium.webdriver.common.by import By\n",
    "from selenium.webdriver.common.keys import Keys\n",
    "from selenium.webdriver.support.ui import WebDriverWait\n",
    "from selenium.webdriver.support import expected_conditions as EC\n",
    "from bs4 import BeautifulSoup\n",
    "from time import sleep\n",
    "\n",
    "print(\"Import success\")\n"
   ]
  },
  {
   "cell_type": "code",
   "execution_count": 80,
   "id": "1f5064da",
   "metadata": {},
   "outputs": [],
   "source": [
    "# set up\n",
    "pd.set_option('display.max_colwidth', None)\n",
    "pd.set_option('display.max_row', None)\n"
   ]
  },
  {
   "cell_type": "markdown",
   "id": "11eb2c43",
   "metadata": {},
   "source": [
    "## Craw Blog"
   ]
  },
  {
   "cell_type": "code",
   "execution_count": 2,
   "id": "c1372b0d",
   "metadata": {},
   "outputs": [
    {
     "name": "stdout",
     "output_type": "stream",
     "text": [
      "Open Chrome and Access Blog\n"
     ]
    }
   ],
   "source": [
    "driver = webdriver.Chrome()\n",
    "url = \"https://bieudogiavang.vn/tin-tuc\"\n",
    "driver.get(url)\n",
    "\n",
    "print(\"Open Chrome and Access Blog\")\n"
   ]
  },
  {
   "cell_type": "code",
   "execution_count": 5,
   "id": "ef21278d",
   "metadata": {},
   "outputs": [
    {
     "name": "stdout",
     "output_type": "stream",
     "text": [
      "84\n"
     ]
    }
   ],
   "source": [
    "# Create link to page\n",
    "str_page = '?page='\n",
    "urls = []\n",
    "urls.append(url)\n",
    "for i in range(83):\n",
    "    new_page = url + str_page + str(i + 2)\n",
    "    urls.append(new_page)\n",
    "print(len(urls))"
   ]
  },
  {
   "cell_type": "code",
   "execution_count": 6,
   "id": "db39815b",
   "metadata": {},
   "outputs": [
    {
     "name": "stdout",
     "output_type": "stream",
     "text": [
      "1260\n"
     ]
    }
   ],
   "source": [
    "# Crawl url blog\n",
    "url_blog = []\n",
    "for url in urls:\n",
    "    driver.get(url)\n",
    "    page_source = BeautifulSoup(driver.page_source)\n",
    "    url_field = page_source.find_all('h3', 'mt-3')\n",
    "    for url_title in url_field:\n",
    "        url_title_blog = url_title.find('a').get('href')\n",
    "        url_blog.append(url_title_blog)\n",
    "        \n",
    "print(len(url_blog))\n"
   ]
  },
  {
   "cell_type": "code",
   "execution_count": 23,
   "id": "4d8c10d7",
   "metadata": {},
   "outputs": [],
   "source": [
    "# Get data blog \n",
    "data = []\n",
    "CONTENT = None\n",
    "TITLE = None\n",
    "tmp = ''\n",
    "for url in url_blog:\n",
    "    driver.get(url)\n",
    "    try:\n",
    "        page_source = BeautifulSoup(driver.page_source)\n",
    "        title_field = page_source.find('h1', 'text-2xl')\n",
    "        TITLE = title_field.get_text().strip()\n",
    "\n",
    "        div_field = page_source.find('div', 'mt-8')\n",
    "        CONTENT = div_field.get_text().strip()\n",
    "\n",
    "    except:\n",
    "        sleep(0.2)\n",
    "    data.append({'CONTENTS':CONTENT, 'TITLE':TITLE})\n",
    "    "
   ]
  },
  {
   "cell_type": "code",
   "execution_count": 25,
   "id": "274a637c",
   "metadata": {},
   "outputs": [
    {
     "data": {
      "text/plain": [
       "1260"
      ]
     },
     "execution_count": 25,
     "metadata": {},
     "output_type": "execute_result"
    }
   ],
   "source": [
    "len(data)\n"
   ]
  },
  {
   "cell_type": "code",
   "execution_count": 26,
   "id": "c0ee493c",
   "metadata": {},
   "outputs": [
    {
     "data": {
      "text/html": [
       "<div>\n",
       "<style scoped>\n",
       "    .dataframe tbody tr th:only-of-type {\n",
       "        vertical-align: middle;\n",
       "    }\n",
       "\n",
       "    .dataframe tbody tr th {\n",
       "        vertical-align: top;\n",
       "    }\n",
       "\n",
       "    .dataframe thead th {\n",
       "        text-align: right;\n",
       "    }\n",
       "</style>\n",
       "<table border=\"1\" class=\"dataframe\">\n",
       "  <thead>\n",
       "    <tr style=\"text-align: right;\">\n",
       "      <th></th>\n",
       "      <th>CONTENTS</th>\n",
       "      <th>TITLE</th>\n",
       "    </tr>\n",
       "  </thead>\n",
       "  <tbody>\n",
       "    <tr>\n",
       "      <th>0</th>\n",
       "      <td>Giá vàng SJC đã tăng tới 1,3 triệu đồng/lượng ...</td>\n",
       "      <td>Giá vàng hôm nay 15/5: Vàng SJC lại tăng 1,3 t...</td>\n",
       "    </tr>\n",
       "    <tr>\n",
       "      <th>1</th>\n",
       "      <td>Kết phiên 14/5, giá vàng miếng SJC được niêm y...</td>\n",
       "      <td>Giá vàng đứng im vùng 89 triệu đồng/lượng sau ...</td>\n",
       "    </tr>\n",
       "    <tr>\n",
       "      <th>2</th>\n",
       "      <td>Nhà nước không can thiệp, bảo hộ giá, kiểm soá...</td>\n",
       "      <td>Trong tuần này, NHNN phải công bố quyết định t...</td>\n",
       "    </tr>\n",
       "    <tr>\n",
       "      <th>3</th>\n",
       "      <td>Bộ trưởng Tài chính Hồ Đức Phớc hôm nay (14/5)...</td>\n",
       "      <td>Buôn lậu vàng vào Việt Nam: Bộ Tài chính ra ch...</td>\n",
       "    </tr>\n",
       "    <tr>\n",
       "      <th>4</th>\n",
       "      <td>Bộ trưởng Tài chính Hồ Đức Phớc hôm nay (14/5)...</td>\n",
       "      <td>Buôn lậu vàng trái phép vào Việt Nam: Bộ Tài c...</td>\n",
       "    </tr>\n",
       "    <tr>\n",
       "      <th>...</th>\n",
       "      <td>...</td>\n",
       "      <td>...</td>\n",
       "    </tr>\n",
       "    <tr>\n",
       "      <th>1255</th>\n",
       "      <td>Phiên giao dịch đầu ngày 18/5/2020 chứng kiến ...</td>\n",
       "      <td>Giá vàng đầu tuần ngày 18/5/2020: Tăng sốc lên...</td>\n",
       "    </tr>\n",
       "    <tr>\n",
       "      <th>1256</th>\n",
       "      <td>Giá vàng ngày 15/5/2020 trong nước chứng kiến ...</td>\n",
       "      <td>Giá vàng ngày 15/5/2020 tăng vọt theo đà tăng ...</td>\n",
       "    </tr>\n",
       "    <tr>\n",
       "      <th>1257</th>\n",
       "      <td>Bảng giá vàng Bảo Tín Minh Châu ngày 26/3/2020...</td>\n",
       "      <td>Giá vàng Bảo Tín Minh Châu ngày 26/3/2020</td>\n",
       "    </tr>\n",
       "    <tr>\n",
       "      <th>1258</th>\n",
       "      <td>Bảng giá vàng PNJ ngày 26/3/2020\\n\\nBiểu đồ gi...</td>\n",
       "      <td>Giá vàng PNJ ngày 26/3/2020</td>\n",
       "    </tr>\n",
       "    <tr>\n",
       "      <th>1259</th>\n",
       "      <td>Bảng giá vàng DOJI ngày 26/3/2020\\n\\nBiểu đồ g...</td>\n",
       "      <td>Giá vàng DOJI ngày 26/3/2020</td>\n",
       "    </tr>\n",
       "  </tbody>\n",
       "</table>\n",
       "<p>1260 rows × 2 columns</p>\n",
       "</div>"
      ],
      "text/plain": [
       "                                               CONTENTS  \\\n",
       "0     Giá vàng SJC đã tăng tới 1,3 triệu đồng/lượng ...   \n",
       "1     Kết phiên 14/5, giá vàng miếng SJC được niêm y...   \n",
       "2     Nhà nước không can thiệp, bảo hộ giá, kiểm soá...   \n",
       "3     Bộ trưởng Tài chính Hồ Đức Phớc hôm nay (14/5)...   \n",
       "4     Bộ trưởng Tài chính Hồ Đức Phớc hôm nay (14/5)...   \n",
       "...                                                 ...   \n",
       "1255  Phiên giao dịch đầu ngày 18/5/2020 chứng kiến ...   \n",
       "1256  Giá vàng ngày 15/5/2020 trong nước chứng kiến ...   \n",
       "1257  Bảng giá vàng Bảo Tín Minh Châu ngày 26/3/2020...   \n",
       "1258  Bảng giá vàng PNJ ngày 26/3/2020\\n\\nBiểu đồ gi...   \n",
       "1259  Bảng giá vàng DOJI ngày 26/3/2020\\n\\nBiểu đồ g...   \n",
       "\n",
       "                                                  TITLE  \n",
       "0     Giá vàng hôm nay 15/5: Vàng SJC lại tăng 1,3 t...  \n",
       "1     Giá vàng đứng im vùng 89 triệu đồng/lượng sau ...  \n",
       "2     Trong tuần này, NHNN phải công bố quyết định t...  \n",
       "3     Buôn lậu vàng vào Việt Nam: Bộ Tài chính ra ch...  \n",
       "4     Buôn lậu vàng trái phép vào Việt Nam: Bộ Tài c...  \n",
       "...                                                 ...  \n",
       "1255  Giá vàng đầu tuần ngày 18/5/2020: Tăng sốc lên...  \n",
       "1256  Giá vàng ngày 15/5/2020 tăng vọt theo đà tăng ...  \n",
       "1257          Giá vàng Bảo Tín Minh Châu ngày 26/3/2020  \n",
       "1258                        Giá vàng PNJ ngày 26/3/2020  \n",
       "1259                       Giá vàng DOJI ngày 26/3/2020  \n",
       "\n",
       "[1260 rows x 2 columns]"
      ]
     },
     "execution_count": 26,
     "metadata": {},
     "output_type": "execute_result"
    }
   ],
   "source": [
    "# Create dataFrame\n",
    "df = pd.DataFrame(data)\n",
    "df"
   ]
  },
  {
   "cell_type": "code",
   "execution_count": 30,
   "id": "d31537c7",
   "metadata": {},
   "outputs": [
    {
     "data": {
      "text/html": [
       "<div>\n",
       "<style scoped>\n",
       "    .dataframe tbody tr th:only-of-type {\n",
       "        vertical-align: middle;\n",
       "    }\n",
       "\n",
       "    .dataframe tbody tr th {\n",
       "        vertical-align: top;\n",
       "    }\n",
       "\n",
       "    .dataframe thead th {\n",
       "        text-align: right;\n",
       "    }\n",
       "</style>\n",
       "<table border=\"1\" class=\"dataframe\">\n",
       "  <thead>\n",
       "    <tr style=\"text-align: right;\">\n",
       "      <th></th>\n",
       "      <th>CONTENTS</th>\n",
       "      <th>TITLE</th>\n",
       "      <th>CONTENT</th>\n",
       "    </tr>\n",
       "  </thead>\n",
       "  <tbody>\n",
       "    <tr>\n",
       "      <th>0</th>\n",
       "      <td>Giá vàng SJC đã tăng tới 1,3 triệu đồng/lượng ...</td>\n",
       "      <td>Giá vàng hôm nay 15/5: Vàng SJC lại tăng 1,3 t...</td>\n",
       "      <td>Giá vàng SJC đã tăng tới 1,3 triệu đồng/lượng ...</td>\n",
       "    </tr>\n",
       "    <tr>\n",
       "      <th>1</th>\n",
       "      <td>Kết phiên 14/5, giá vàng miếng SJC được niêm y...</td>\n",
       "      <td>Giá vàng đứng im vùng 89 triệu đồng/lượng sau ...</td>\n",
       "      <td>Kết phiên 14/5, giá vàng miếng SJC được niêm y...</td>\n",
       "    </tr>\n",
       "    <tr>\n",
       "      <th>2</th>\n",
       "      <td>Nhà nước không can thiệp, bảo hộ giá, kiểm soá...</td>\n",
       "      <td>Trong tuần này, NHNN phải công bố quyết định t...</td>\n",
       "      <td>Nhà nước không can thiệp, bảo hộ giá, kiểm soá...</td>\n",
       "    </tr>\n",
       "    <tr>\n",
       "      <th>3</th>\n",
       "      <td>Bộ trưởng Tài chính Hồ Đức Phớc hôm nay (14/5)...</td>\n",
       "      <td>Buôn lậu vàng vào Việt Nam: Bộ Tài chính ra ch...</td>\n",
       "      <td>Bộ trưởng Tài chính Hồ Đức Phớc hôm nay (14/5)...</td>\n",
       "    </tr>\n",
       "    <tr>\n",
       "      <th>4</th>\n",
       "      <td>Bộ trưởng Tài chính Hồ Đức Phớc hôm nay (14/5)...</td>\n",
       "      <td>Buôn lậu vàng trái phép vào Việt Nam: Bộ Tài c...</td>\n",
       "      <td>Bộ trưởng Tài chính Hồ Đức Phớc hôm nay (14/5)...</td>\n",
       "    </tr>\n",
       "  </tbody>\n",
       "</table>\n",
       "</div>"
      ],
      "text/plain": [
       "                                            CONTENTS  \\\n",
       "0  Giá vàng SJC đã tăng tới 1,3 triệu đồng/lượng ...   \n",
       "1  Kết phiên 14/5, giá vàng miếng SJC được niêm y...   \n",
       "2  Nhà nước không can thiệp, bảo hộ giá, kiểm soá...   \n",
       "3  Bộ trưởng Tài chính Hồ Đức Phớc hôm nay (14/5)...   \n",
       "4  Bộ trưởng Tài chính Hồ Đức Phớc hôm nay (14/5)...   \n",
       "\n",
       "                                               TITLE  \\\n",
       "0  Giá vàng hôm nay 15/5: Vàng SJC lại tăng 1,3 t...   \n",
       "1  Giá vàng đứng im vùng 89 triệu đồng/lượng sau ...   \n",
       "2  Trong tuần này, NHNN phải công bố quyết định t...   \n",
       "3  Buôn lậu vàng vào Việt Nam: Bộ Tài chính ra ch...   \n",
       "4  Buôn lậu vàng trái phép vào Việt Nam: Bộ Tài c...   \n",
       "\n",
       "                                             CONTENT  \n",
       "0  Giá vàng SJC đã tăng tới 1,3 triệu đồng/lượng ...  \n",
       "1  Kết phiên 14/5, giá vàng miếng SJC được niêm y...  \n",
       "2  Nhà nước không can thiệp, bảo hộ giá, kiểm soá...  \n",
       "3  Bộ trưởng Tài chính Hồ Đức Phớc hôm nay (14/5)...  \n",
       "4  Bộ trưởng Tài chính Hồ Đức Phớc hôm nay (14/5)...  "
      ]
     },
     "execution_count": 30,
     "metadata": {},
     "output_type": "execute_result"
    }
   ],
   "source": [
    "# Swap columns\n",
    "df['CONTENT'] = df['CONTENTS']\n",
    "df.head(5)\n"
   ]
  },
  {
   "cell_type": "code",
   "execution_count": 31,
   "id": "1d5a09c2",
   "metadata": {},
   "outputs": [],
   "source": [
    "df = df.drop('CONTENTS', axis=1)"
   ]
  },
  {
   "cell_type": "code",
   "execution_count": 33,
   "id": "9abbd990",
   "metadata": {},
   "outputs": [],
   "source": [
    "# To csv file\n",
    "df.to_csv('Blog Price Gold.csv')\n"
   ]
  },
  {
   "cell_type": "code",
   "execution_count": null,
   "id": "7e20293f",
   "metadata": {},
   "outputs": [],
   "source": []
  }
 ],
 "metadata": {
  "kernelspec": {
   "display_name": "Python 3 (ipykernel)",
   "language": "python",
   "name": "python3"
  },
  "language_info": {
   "codemirror_mode": {
    "name": "ipython",
    "version": 3
   },
   "file_extension": ".py",
   "mimetype": "text/x-python",
   "name": "python",
   "nbconvert_exporter": "python",
   "pygments_lexer": "ipython3",
   "version": "3.10.9"
  }
 },
 "nbformat": 4,
 "nbformat_minor": 5
}
